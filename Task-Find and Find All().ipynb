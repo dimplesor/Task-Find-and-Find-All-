{
 "cells": [
  {
   "cell_type": "markdown",
   "id": "20b4fef7-6c1a-4eff-b279-dfe4e4574838",
   "metadata": {},
   "source": [
    "# Find and Find All()"
   ]
  },
  {
   "cell_type": "markdown",
   "id": "887a679a-11bd-4c2f-a4eb-154360be2ab8",
   "metadata": {},
   "source": [
    "### Get all values from https://quotes.toscrape.com/"
   ]
  },
  {
   "cell_type": "code",
   "execution_count": null,
   "id": "660c1194-2e3f-4c2a-ac96-8f7ecf12fc86",
   "metadata": {},
   "outputs": [],
   "source": [
    "import requests as rq\n",
    "\n",
    "from bs4 import BeautifulSoup\n",
    "\n",
    "url = 'https://quotes.toscrape.com/'\n",
    "Resp = rq.get(url)\n",
    "\n",
    "\n",
    "Resp.content"
   ]
  },
  {
   "cell_type": "raw",
   "id": "93b26318-3ef8-43e5-9a66-117653804f18",
   "metadata": {},
   "source": [
    "b'<!DOCTYPE html>\\n<html lang=\"en\">\\n<head>\\n\\t<meta charset=\"UTF-8\">\\n\\t<title>Quotes to Scrape</title>\\n    <link rel=\"stylesheet\" href=\"/static/bootstrap.min.css\">\\n    <link rel=\"stylesheet\" href=\"/static/main.css\">\\n</head>\\n<body>\\n    <div class=\"container\">\\n        <div class=\"row header-box\">\\n            <div class=\"col-md-8\">\\n                <h1>\\n                    <a href=\"/\" style=\"text-decoration: none\">Quotes to Scrape</a>\\n                </h1>\\n            </div>\\n            <div class=\"col-md-4\">\\n                <p>\\n                \\n                    <a href=\"/login\">Login</a>\\n                \\n                </p>\\n            </div>\\n        </div>\\n    \\n\\n<div class=\"row\">\\n    <div class=\"col-md-8\">\\n\\n    <div class=\"quote\" itemscope itemtype=\"http://schema.org/CreativeWork\">\\n        <span class=\"text\" itemprop=\"text\">\\xe2\\x80\\x9cThe world as we have created it is a process of our thinking. It cannot be changed without changing our thinking.\\xe2\\x80\\x9d</span>\\n        <span>by <small class=\"author\" itemprop=\"author\">Albert Einstein</small>\\n        <a href=\"/author/Albert-Einstein\">(about)</a>\\n        </span>\\n        <div class=\"tags\">\\n            Tags:\\n            <meta class=\"keywords\" itemprop=\"keywords\" content=\"change,deep-thoughts,thinking,world\" /    > \\n            \\n            <a class=\"tag\" href=\"/tag/change/page/1/\">change</a>\\n            \\n            <a class=\"tag\" href=\"/tag/deep-thoughts/page/1/\">deep-thoughts</a>\\n            \\n            <a class=\"tag\" href=\"/tag/thinking/page/1/\">thinking</a>\\n            \\n            <a class=\"tag\" href=\"/tag/world/page/1/\">world</a>\\n            \\n        </div>\\n    </div>\\n\\n    <div class=\"quote\" itemscope itemtype=\"http://schema.org/CreativeWork\">\\n        <span class=\"text\" itemprop=\"text\">\\xe2\\x80\\x9cIt is our choices, Harry, that show what we truly are, far more than our abilities.\\xe2\\x80\\x9d</span>\\n        <span>by <small class=\"author\" itemprop=\"author\">J.K. Rowling</small>\\n        <a href=\"/author/J-K-Rowling\">(about)</a>\\n        </span>\\n        <div class=\"tags\">\\n            Tags:\\n            <meta class=\"keywords\" itemprop=\"keywords\" content=\"abilities,choices\" /    > \\n            \\n            <a class=\"tag\" href=\"/tag/abilities/page/1/\">abilities</a>\\n            \\n            <a class=\"tag\" href=\"/tag/choices/page/1/\">choices</a>\\n            \\n        </div>\\n    </div>\\n\\n    <div class=\"quote\" itemscope itemtype=\"http://schema.org/CreativeWork\">\\n        <span class=\"text\" itemprop=\"text\">\\xe2\\x80\\x9cThere are only two ways to live your life. One is as though nothing is a miracle. The other is as though everything is a miracle.\\xe2\\x80\\x9d</span>\\n        <span>by <small class=\"author\" itemprop=\"author\">Albert Einstein</small>\\n        <a href=\"/author/Albert-Einstein\">(about)</a>\\n        </span>\\n        <div class=\"tags\">\\n            Tags:\\n            <meta class=\"keywords\" itemprop=\"keywords\" content=\"inspirational,life,live,miracle,miracles\" /    > \\n            \\n            <a class=\"tag\" href=\"/tag/inspirational/page/1/\">inspirational</a>\\n            \\n            <a class=\"tag\" href=\"/tag/life/page/1/\">life</a>\\n            \\n            <a class=\"tag\" href=\"/tag/live/page/1/\">live</a>\\n            \\n            <a class=\"tag\" href=\"/tag/miracle/page/1/\">miracle</a>\\n            \\n            <a class=\"tag\" href=\"/tag/miracles/page/1/\">miracles</a>\\n            \\n        </div>\\n    </div>\\n\\n    <div class=\"quote\" itemscope itemtype=\"http://schema.org/CreativeWork\">\\n        <span class=\"text\" itemprop=\"text\">\\xe2\\x80\\x9cThe person, be it gentleman or lady, who has not pleasure in a good novel, must be intolerably stupid.\\xe2\\x80\\x9d</span>\\n        <span>by <small class=\"author\" itemprop=\"author\">Jane Austen</small>\\n        <a href=\"/author/Jane-Austen\">(about)</a>\\n        </span>\\n        <div class=\"tags\">\\n            Tags:\\n            <meta class=\"keywords\" itemprop=\"keywords\" content=\"aliteracy,books,classic,humor\" /    > \\n            \\n            <a class=\"tag\" href=\"/tag/aliteracy/page/1/\">aliteracy</a>\\n            \\n            <a class=\"tag\" href=\"/tag/books/page/1/\">books</a>\\n            \\n            <a class=\"tag\" href=\"/tag/classic/page/1/\">classic</a>\\n            \\n            <a class=\"tag\" href=\"/tag/humor/page/1/\">humor</a>\\n            \\n        </div>\\n    </div>\\n\\n    <div class=\"quote\" itemscope itemtype=\"http://schema.org/CreativeWork\">\\n        <span class=\"text\" itemprop=\"text\">\\xe2\\x80\\x9cImperfection is beauty, madness is genius and it&#39;s better to be absolutely ridiculous than absolutely boring.\\xe2\\x80\\x9d</span>\\n        <span>by <small class=\"author\" itemprop=\"author\">Marilyn Monroe</small>\\n        <a href=\"/author/Marilyn-Monroe\">(about)</a>\\n        </span>\\n        <div class=\"tags\">\\n            Tags:\\n            <meta class=\"keywords\" itemprop=\"keywords\" content=\"be-yourself,inspirational\" /    > \\n            \\n            <a class=\"tag\" href=\"/tag/be-yourself/page/1/\">be-yourself</a>\\n            \\n            <a class=\"tag\" href=\"/tag/inspirational/page/1/\">inspirational</a>\\n            \\n        </div>\\n    </div>\\n\\n    <div class=\"quote\" itemscope itemtype=\"http://schema.org/CreativeWork\">\\n        <span class=\"text\" itemprop=\"text\">\\xe2\\x80\\x9cTry not to become a man of success. Rather become a man of value.\\xe2\\x80\\x9d</span>\\n        <span>by <small class=\"author\" itemprop=\"author\">Albert Einstein</small>\\n        <a href=\"/author/Albert-Einstein\">(about)</a>\\n        </span>\\n        <div class=\"tags\">\\n            Tags:\\n            <meta class=\"keywords\" itemprop=\"keywords\" content=\"adulthood,success,value\" /    > \\n            \\n            <a class=\"tag\" href=\"/tag/adulthood/page/1/\">adulthood</a>\\n            \\n            <a class=\"tag\" href=\"/tag/success/page/1/\">success</a>\\n            \\n            <a class=\"tag\" href=\"/tag/value/page/1/\">value</a>\\n            \\n        </div>\\n    </div>\\n\\n    <div class=\"quote\" itemscope itemtype=\"http://schema.org/CreativeWork\">\\n        <span class=\"text\" itemprop=\"text\">\\xe2\\x80\\x9cIt is better to be hated for what you are than to be loved for what you are not.\\xe2\\x80\\x9d</span>\\n        <span>by <small class=\"author\" itemprop=\"author\">Andr\\xc3\\xa9 Gide</small>\\n        <a href=\"/author/Andre-Gide\">(about)</a>\\n        </span>\\n        <div class=\"tags\">\\n            Tags:\\n            <meta class=\"keywords\" itemprop=\"keywords\" content=\"life,love\" /    > \\n            \\n            <a class=\"tag\" href=\"/tag/life/page/1/\">life</a>\\n            \\n            <a class=\"tag\" href=\"/tag/love/page/1/\">love</a>\\n            \\n        </div>\\n    </div>\\n\\n    <div class=\"quote\" itemscope itemtype=\"http://schema.org/CreativeWork\">\\n        <span class=\"text\" itemprop=\"text\">\\xe2\\x80\\x9cI have not failed. I&#39;ve just found 10,000 ways that won&#39;t work.\\xe2\\x80\\x9d</span>\\n        <span>by <small class=\"author\" itemprop=\"author\">Thomas A. Edison</small>\\n        <a href=\"/author/Thomas-A-Edison\">(about)</a>\\n        </span>\\n        <div class=\"tags\">\\n            Tags:\\n            <meta class=\"keywords\" itemprop=\"keywords\" content=\"edison,failure,inspirational,paraphrased\" /    > \\n            \\n            <a class=\"tag\" href=\"/tag/edison/page/1/\">edison</a>\\n            \\n            <a class=\"tag\" href=\"/tag/failure/page/1/\">failure</a>\\n            \\n            <a class=\"tag\" href=\"/tag/inspirational/page/1/\">inspirational</a>\\n            \\n            <a class=\"tag\" href=\"/tag/paraphrased/page/1/\">paraphrased</a>\\n            \\n        </div>\\n    </div>\\n\\n    <div class=\"quote\" itemscope itemtype=\"http://schema.org/CreativeWork\">\\n        <span class=\"text\" itemprop=\"text\">\\xe2\\x80\\x9cA woman is like a tea bag; you never know how strong it is until it&#39;s in hot water.\\xe2\\x80\\x9d</span>\\n        <span>by <small class=\"author\" itemprop=\"author\">Eleanor Roosevelt</small>\\n        <a href=\"/author/Eleanor-Roosevelt\">(about)</a>\\n        </span>\\n        <div class=\"tags\">\\n            Tags:\\n            <meta class=\"keywords\" itemprop=\"keywords\" content=\"misattributed-eleanor-roosevelt\" /    > \\n            \\n            <a class=\"tag\" href=\"/tag/misattributed-eleanor-roosevelt/page/1/\">misattributed-eleanor-roosevelt</a>\\n            \\n        </div>\\n    </div>\\n\\n    <div class=\"quote\" itemscope itemtype=\"http://schema.org/CreativeWork\">\\n        <span class=\"text\" itemprop=\"text\">\\xe2\\x80\\x9cA day without sunshine is like, you know, night.\\xe2\\x80\\x9d</span>\\n        <span>by <small class=\"author\" itemprop=\"author\">Steve Martin</small>\\n        <a href=\"/author/Steve-Martin\">(about)</a>\\n        </span>\\n        <div class=\"tags\">\\n            Tags:\\n            <meta class=\"keywords\" itemprop=\"keywords\" content=\"humor,obvious,simile\" /    > \\n            \\n            <a class=\"tag\" href=\"/tag/humor/page/1/\">humor</a>\\n            \\n            <a class=\"tag\" href=\"/tag/obvious/page/1/\">obvious</a>\\n            \\n            <a class=\"tag\" href=\"/tag/simile/page/1/\">simile</a>\\n            \\n        </div>\\n    </div>\\n\\n    <nav>\\n        <ul class=\"pager\">\\n            \\n            \\n            <li class=\"next\">\\n                <a href=\"/page/2/\">Next <span aria-hidden=\"true\">&rarr;</span></a>\\n            </li>\\n            \\n        </ul>\\n    </nav>\\n    </div>\\n    <div class=\"col-md-4 tags-box\">\\n        \\n            <h2>Top Ten tags</h2>\\n            \\n            <span class=\"tag-item\">\\n            <a class=\"tag\" style=\"font-size: 28px\" href=\"/tag/love/\">love</a>\\n            </span>\\n            \\n            <span class=\"tag-item\">\\n            <a class=\"tag\" style=\"font-size: 26px\" href=\"/tag/inspirational/\">inspirational</a>\\n            </span>\\n            \\n            <span class=\"tag-item\">\\n            <a class=\"tag\" style=\"font-size: 26px\" href=\"/tag/life/\">life</a>\\n            </span>\\n            \\n            <span class=\"tag-item\">\\n            <a class=\"tag\" style=\"font-size: 24px\" href=\"/tag/humor/\">humor</a>\\n            </span>\\n            \\n            <span class=\"tag-item\">\\n            <a class=\"tag\" style=\"font-size: 22px\" href=\"/tag/books/\">books</a>\\n            </span>\\n            \\n            <span class=\"tag-item\">\\n            <a class=\"tag\" style=\"font-size: 14px\" href=\"/tag/reading/\">reading</a>\\n            </span>\\n            \\n            <span class=\"tag-item\">\\n            <a class=\"tag\" style=\"font-size: 10px\" href=\"/tag/friendship/\">friendship</a>\\n            </span>\\n            \\n            <span class=\"tag-item\">\\n            <a class=\"tag\" style=\"font-size: 8px\" href=\"/tag/friends/\">friends</a>\\n            </span>\\n            \\n            <span class=\"tag-item\">\\n            <a class=\"tag\" style=\"font-size: 8px\" href=\"/tag/truth/\">truth</a>\\n            </span>\\n            \\n            <span class=\"tag-item\">\\n            <a class=\"tag\" style=\"font-size: 6px\" href=\"/tag/simile/\">simile</a>\\n            </span>\\n            \\n        \\n    </div>\\n</div>\\n\\n    </div>\\n    <footer class=\"footer\">\\n        <div class=\"container\">\\n            <p class=\"text-muted\">\\n                Quotes by: <a href=\"https://www.goodreads.com/quotes\">GoodReads.com</a>\\n            </p>\\n            <p class=\"copyright\">\\n                Made with <span class=\\'zyte\\'>\\xe2\\x9d\\xa4</span> by <a class=\\'zyte\\' href=\"https://www.zyte.com\">Zyte</a>\\n            </p>\\n        </div>\\n    </footer>\\n</body>\\n</html>'"
   ]
  },
  {
   "cell_type": "code",
   "execution_count": null,
   "id": "403e03e5-0bb6-4ee2-aaca-48b2b5c20be9",
   "metadata": {},
   "outputs": [],
   "source": [
    "bSoup = BeautifulSoup(Resp.content, 'html.parser')\n",
    "bSoup"
   ]
  },
  {
   "cell_type": "raw",
   "id": "a1332657-ddfd-4747-9420-612af900c6df",
   "metadata": {},
   "source": [
    "<!DOCTYPE html>\n",
    "\n",
    "<html lang=\"en\">\n",
    "<head>\n",
    "<meta charset=\"utf-8\"/>\n",
    "<title>Quotes to Scrape</title>\n",
    "<link href=\"/static/bootstrap.min.css\" rel=\"stylesheet\"/>\n",
    "<link href=\"/static/main.css\" rel=\"stylesheet\"/>\n",
    "</head>\n",
    "<body>\n",
    "<div class=\"container\">\n",
    "<div class=\"row header-box\">\n",
    "<div class=\"col-md-8\">\n",
    "<h1>\n",
    "<a href=\"/\" style=\"text-decoration: none\">Quotes to Scrape</a>\n",
    "</h1>\n",
    "</div>\n",
    "<div class=\"col-md-4\">\n",
    "<p>\n",
    "<a href=\"/login\">Login</a>\n",
    "</p>\n",
    "</div>\n",
    "</div>\n",
    "<div class=\"row\">\n",
    "<div class=\"col-md-8\">\n",
    "<div class=\"quote\" itemscope=\"\" itemtype=\"http://schema.org/CreativeWork\">\n",
    "<span class=\"text\" itemprop=\"text\">“The world as we have created it is a process of our thinking. It cannot be changed without changing our thinking.”</span>\n",
    "<span>by <small class=\"author\" itemprop=\"author\">Albert Einstein</small>\n",
    "<a href=\"/author/Albert-Einstein\">(about)</a>\n",
    "</span>\n",
    "<div class=\"tags\">\n",
    "            Tags:\n",
    "            <meta class=\"keywords\" content=\"change,deep-thoughts,thinking,world\" itemprop=\"keywords\"/>\n",
    "<a class=\"tag\" href=\"/tag/change/page/1/\">change</a>\n",
    "<a class=\"tag\" href=\"/tag/deep-thoughts/page/1/\">deep-thoughts</a>\n",
    "<a class=\"tag\" href=\"/tag/thinking/page/1/\">thinking</a>\n",
    "<a class=\"tag\" href=\"/tag/world/page/1/\">world</a>\n",
    "</div>\n",
    "</div>\n",
    "<div class=\"quote\" itemscope=\"\" itemtype=\"http://schema.org/CreativeWork\">\n",
    "<span class=\"text\" itemprop=\"text\">“It is our choices, Harry, that show what we truly are, far more than our abilities.”</span>\n",
    "<span>by <small class=\"author\" itemprop=\"author\">J.K. Rowling</small>\n",
    "<a href=\"/author/J-K-Rowling\">(about)</a>\n",
    "</span>\n",
    "<div class=\"tags\">\n",
    "            Tags:\n",
    "            <meta class=\"keywords\" content=\"abilities,choices\" itemprop=\"keywords\"/>\n",
    "<a class=\"tag\" href=\"/tag/abilities/page/1/\">abilities</a>\n",
    "<a class=\"tag\" href=\"/tag/choices/page/1/\">choices</a>\n",
    "</div>\n",
    "</div>\n",
    "<div class=\"quote\" itemscope=\"\" itemtype=\"http://schema.org/CreativeWork\">\n",
    "<span class=\"text\" itemprop=\"text\">“There are only two ways to live your life. One is as though nothing is a miracle. The other is as though everything is a miracle.”</span>\n",
    "<span>by <small class=\"author\" itemprop=\"author\">Albert Einstein</small>\n",
    "<a href=\"/author/Albert-Einstein\">(about)</a>\n",
    "</span>\n",
    "<div class=\"tags\">\n",
    "            Tags:\n",
    "            <meta class=\"keywords\" content=\"inspirational,life,live,miracle,miracles\" itemprop=\"keywords\"/>\n",
    "<a class=\"tag\" href=\"/tag/inspirational/page/1/\">inspirational</a>\n",
    "<a class=\"tag\" href=\"/tag/life/page/1/\">life</a>\n",
    "<a class=\"tag\" href=\"/tag/live/page/1/\">live</a>\n",
    "<a class=\"tag\" href=\"/tag/miracle/page/1/\">miracle</a>\n",
    "<a class=\"tag\" href=\"/tag/miracles/page/1/\">miracles</a>\n",
    "</div>\n",
    "</div>\n",
    "<div class=\"quote\" itemscope=\"\" itemtype=\"http://schema.org/CreativeWork\">\n",
    "<span class=\"text\" itemprop=\"text\">“The person, be it gentleman or lady, who has not pleasure in a good novel, must be intolerably stupid.”</span>\n",
    "<span>by <small class=\"author\" itemprop=\"author\">Jane Austen</small>\n",
    "<a href=\"/author/Jane-Austen\">(about)</a>\n",
    "</span>\n",
    "<div class=\"tags\">\n",
    "            Tags:\n",
    "            <meta class=\"keywords\" content=\"aliteracy,books,classic,humor\" itemprop=\"keywords\"/>\n",
    "<a class=\"tag\" href=\"/tag/aliteracy/page/1/\">aliteracy</a>\n",
    "<a class=\"tag\" href=\"/tag/books/page/1/\">books</a>\n",
    "<a class=\"tag\" href=\"/tag/classic/page/1/\">classic</a>\n",
    "<a class=\"tag\" href=\"/tag/humor/page/1/\">humor</a>\n",
    "</div>\n",
    "</div>\n",
    "<div class=\"quote\" itemscope=\"\" itemtype=\"http://schema.org/CreativeWork\">\n",
    "<span class=\"text\" itemprop=\"text\">“Imperfection is beauty, madness is genius and it's better to be absolutely ridiculous than absolutely boring.”</span>\n",
    "<span>by <small class=\"author\" itemprop=\"author\">Marilyn Monroe</small>\n",
    "<a href=\"/author/Marilyn-Monroe\">(about)</a>\n",
    "</span>\n",
    "<div class=\"tags\">\n",
    "            Tags:\n",
    "            <meta class=\"keywords\" content=\"be-yourself,inspirational\" itemprop=\"keywords\"/>\n",
    "<a class=\"tag\" href=\"/tag/be-yourself/page/1/\">be-yourself</a>\n",
    "<a class=\"tag\" href=\"/tag/inspirational/page/1/\">inspirational</a>\n",
    "</div>\n",
    "</div>\n",
    "<div class=\"quote\" itemscope=\"\" itemtype=\"http://schema.org/CreativeWork\">\n",
    "<span class=\"text\" itemprop=\"text\">“Try not to become a man of success. Rather become a man of value.”</span>\n",
    "<span>by <small class=\"author\" itemprop=\"author\">Albert Einstein</small>\n",
    "<a href=\"/author/Albert-Einstein\">(about)</a>\n",
    "</span>\n",
    "<div class=\"tags\">\n",
    "            Tags:\n",
    "            <meta class=\"keywords\" content=\"adulthood,success,value\" itemprop=\"keywords\"/>\n",
    "<a class=\"tag\" href=\"/tag/adulthood/page/1/\">adulthood</a>\n",
    "<a class=\"tag\" href=\"/tag/success/page/1/\">success</a>\n",
    "<a class=\"tag\" href=\"/tag/value/page/1/\">value</a>\n",
    "</div>\n",
    "</div>\n",
    "<div class=\"quote\" itemscope=\"\" itemtype=\"http://schema.org/CreativeWork\">\n",
    "<span class=\"text\" itemprop=\"text\">“It is better to be hated for what you are than to be loved for what you are not.”</span>\n",
    "<span>by <small class=\"author\" itemprop=\"author\">André Gide</small>\n",
    "<a href=\"/author/Andre-Gide\">(about)</a>\n",
    "</span>\n",
    "<div class=\"tags\">\n",
    "            Tags:\n",
    "            <meta class=\"keywords\" content=\"life,love\" itemprop=\"keywords\"/>\n",
    "<a class=\"tag\" href=\"/tag/life/page/1/\">life</a>\n",
    "<a class=\"tag\" href=\"/tag/love/page/1/\">love</a>\n",
    "</div>\n",
    "</div>\n",
    "<div class=\"quote\" itemscope=\"\" itemtype=\"http://schema.org/CreativeWork\">\n",
    "<span class=\"text\" itemprop=\"text\">“I have not failed. I've just found 10,000 ways that won't work.”</span>\n",
    "<span>by <small class=\"author\" itemprop=\"author\">Thomas A. Edison</small>\n",
    "<a href=\"/author/Thomas-A-Edison\">(about)</a>\n",
    "</span>\n",
    "<div class=\"tags\">\n",
    "            Tags:\n",
    "            <meta class=\"keywords\" content=\"edison,failure,inspirational,paraphrased\" itemprop=\"keywords\"/>\n",
    "<a class=\"tag\" href=\"/tag/edison/page/1/\">edison</a>\n",
    "<a class=\"tag\" href=\"/tag/failure/page/1/\">failure</a>\n",
    "<a class=\"tag\" href=\"/tag/inspirational/page/1/\">inspirational</a>\n",
    "<a class=\"tag\" href=\"/tag/paraphrased/page/1/\">paraphrased</a>\n",
    "</div>\n",
    "</div>\n",
    "<div class=\"quote\" itemscope=\"\" itemtype=\"http://schema.org/CreativeWork\">\n",
    "<span class=\"text\" itemprop=\"text\">“A woman is like a tea bag; you never know how strong it is until it's in hot water.”</span>\n",
    "<span>by <small class=\"author\" itemprop=\"author\">Eleanor Roosevelt</small>\n",
    "<a href=\"/author/Eleanor-Roosevelt\">(about)</a>\n",
    "</span>\n",
    "<div class=\"tags\">\n",
    "            Tags:\n",
    "            <meta class=\"keywords\" content=\"misattributed-eleanor-roosevelt\" itemprop=\"keywords\"/>\n",
    "<a class=\"tag\" href=\"/tag/misattributed-eleanor-roosevelt/page/1/\">misattributed-eleanor-roosevelt</a>\n",
    "</div>\n",
    "</div>\n",
    "<div class=\"quote\" itemscope=\"\" itemtype=\"http://schema.org/CreativeWork\">\n",
    "<span class=\"text\" itemprop=\"text\">“A day without sunshine is like, you know, night.”</span>\n",
    "<span>by <small class=\"author\" itemprop=\"author\">Steve Martin</small>\n",
    "<a href=\"/author/Steve-Martin\">(about)</a>\n",
    "</span>\n",
    "<div class=\"tags\">\n",
    "            Tags:\n",
    "            <meta class=\"keywords\" content=\"humor,obvious,simile\" itemprop=\"keywords\"/>\n",
    "<a class=\"tag\" href=\"/tag/humor/page/1/\">humor</a>\n",
    "<a class=\"tag\" href=\"/tag/obvious/page/1/\">obvious</a>\n",
    "<a class=\"tag\" href=\"/tag/simile/page/1/\">simile</a>\n",
    "</div>\n",
    "</div>\n",
    "<nav>\n",
    "<ul class=\"pager\">\n",
    "<li class=\"next\">\n",
    "<a href=\"/page/2/\">Next <span aria-hidden=\"true\">→</span></a>\n",
    "</li>\n",
    "</ul>\n",
    "</nav>\n",
    "</div>\n",
    "<div class=\"col-md-4 tags-box\">\n",
    "<h2>Top Ten tags</h2>\n",
    "<span class=\"tag-item\">\n",
    "<a class=\"tag\" href=\"/tag/love/\" style=\"font-size: 28px\">love</a>\n",
    "</span>\n",
    "<span class=\"tag-item\">\n",
    "<a class=\"tag\" href=\"/tag/inspirational/\" style=\"font-size: 26px\">inspirational</a>\n",
    "</span>\n",
    "<span class=\"tag-item\">\n",
    "<a class=\"tag\" href=\"/tag/life/\" style=\"font-size: 26px\">life</a>\n",
    "</span>\n",
    "<span class=\"tag-item\">\n",
    "<a class=\"tag\" href=\"/tag/humor/\" style=\"font-size: 24px\">humor</a>\n",
    "</span>\n",
    "<span class=\"tag-item\">\n",
    "<a class=\"tag\" href=\"/tag/books/\" style=\"font-size: 22px\">books</a>\n",
    "</span>\n",
    "<span class=\"tag-item\">\n",
    "<a class=\"tag\" href=\"/tag/reading/\" style=\"font-size: 14px\">reading</a>\n",
    "</span>\n",
    "<span class=\"tag-item\">\n",
    "<a class=\"tag\" href=\"/tag/friendship/\" style=\"font-size: 10px\">friendship</a>\n",
    "</span>\n",
    "<span class=\"tag-item\">\n",
    "<a class=\"tag\" href=\"/tag/friends/\" style=\"font-size: 8px\">friends</a>\n",
    "</span>\n",
    "<span class=\"tag-item\">\n",
    "<a class=\"tag\" href=\"/tag/truth/\" style=\"font-size: 8px\">truth</a>\n",
    "</span>\n",
    "<span class=\"tag-item\">\n",
    "<a class=\"tag\" href=\"/tag/simile/\" style=\"font-size: 6px\">simile</a>\n",
    "</span>\n",
    "</div>\n",
    "</div>\n",
    "</div>\n",
    "<footer class=\"footer\">\n",
    "<div class=\"container\">\n",
    "<p class=\"text-muted\">\n",
    "                Quotes by: <a href=\"https://www.goodreads.com/quotes\">GoodReads.com</a>\n",
    "</p>\n",
    "<p class=\"copyright\">\n",
    "                Made with <span class=\"zyte\">❤</span> by <a class=\"zyte\" href=\"https://www.zyte.com\">Zyte</a>\n",
    "</p>\n",
    "</div>\n",
    "</footer>\n",
    "</body>\n",
    "</html>"
   ]
  },
  {
   "cell_type": "code",
   "execution_count": null,
   "id": "e045e53b-8156-4438-80d8-5969059ba2c0",
   "metadata": {},
   "outputs": [],
   "source": [
    "type(bSoup)"
   ]
  },
  {
   "cell_type": "raw",
   "id": "004bdc59-1933-48e8-a3c1-0c467848ff25",
   "metadata": {},
   "source": [
    "bs4.BeautifulSoup"
   ]
  },
  {
   "cell_type": "code",
   "execution_count": null,
   "id": "51bb551f-0842-4efe-ae82-ef9aa3b5bf67",
   "metadata": {},
   "outputs": [],
   "source": [
    "bSoup.title.text"
   ]
  },
  {
   "cell_type": "raw",
   "id": "96a73503-07a4-4c49-a22a-d325404c12c8",
   "metadata": {},
   "source": [
    "'Quotes to Scrape'"
   ]
  },
  {
   "cell_type": "code",
   "execution_count": null,
   "id": "641ed4de-d441-418d-a7dc-bbef3ee189e5",
   "metadata": {},
   "outputs": [],
   "source": [
    "bSoup.h1"
   ]
  },
  {
   "cell_type": "raw",
   "id": "0d80dfc8-f830-40e2-9b3a-46e1a724f084",
   "metadata": {},
   "source": [
    "<h1>\n",
    "<a href=\"/\" style=\"text-decoration: none\">Quotes to Scrape</a>\n",
    "</h1>"
   ]
  },
  {
   "cell_type": "code",
   "execution_count": null,
   "id": "d2d7f421-5260-4551-8edb-871993850164",
   "metadata": {},
   "outputs": [],
   "source": [
    "bSoup.div"
   ]
  },
  {
   "cell_type": "raw",
   "id": "c1f20cdc-c643-42e6-b322-a056a10c8cd3",
   "metadata": {},
   "source": [
    "<div class=\"container\">\n",
    "<div class=\"row header-box\">\n",
    "<div class=\"col-md-8\">\n",
    "<h1>\n",
    "<a href=\"/\" style=\"text-decoration: none\">Quotes to Scrape</a>\n",
    "</h1>\n",
    "</div>\n",
    "<div class=\"col-md-4\">\n",
    "<p>\n",
    "<a href=\"/login\">Login</a>\n",
    "</p>\n",
    "</div>\n",
    "</div>\n",
    "<div class=\"row\">\n",
    "<div class=\"col-md-8\">\n",
    "<div class=\"quote\" itemscope=\"\" itemtype=\"http://schema.org/CreativeWork\">\n",
    "<span class=\"text\" itemprop=\"text\">“The world as we have created it is a process of our thinking. It cannot be changed without changing our thinking.”</span>\n",
    "<span>by <small class=\"author\" itemprop=\"author\">Albert Einstein</small>\n",
    "<a href=\"/author/Albert-Einstein\">(about)</a>\n",
    "</span>\n",
    "<div class=\"tags\">\n",
    "            Tags:\n",
    "            <meta class=\"keywords\" content=\"change,deep-thoughts,thinking,world\" itemprop=\"keywords\"/>\n",
    "<a class=\"tag\" href=\"/tag/change/page/1/\">change</a>\n",
    "<a class=\"tag\" href=\"/tag/deep-thoughts/page/1/\">deep-thoughts</a>\n",
    "<a class=\"tag\" href=\"/tag/thinking/page/1/\">thinking</a>\n",
    "<a class=\"tag\" href=\"/tag/world/page/1/\">world</a>\n",
    "</div>\n",
    "</div>\n",
    "<div class=\"quote\" itemscope=\"\" itemtype=\"http://schema.org/CreativeWork\">\n",
    "<span class=\"text\" itemprop=\"text\">“It is our choices, Harry, that show what we truly are, far more than our abilities.”</span>\n",
    "<span>by <small class=\"author\" itemprop=\"author\">J.K. Rowling</small>\n",
    "<a href=\"/author/J-K-Rowling\">(about)</a>\n",
    "</span>\n",
    "<div class=\"tags\">\n",
    "            Tags:\n",
    "            <meta class=\"keywords\" content=\"abilities,choices\" itemprop=\"keywords\"/>\n",
    "<a class=\"tag\" href=\"/tag/abilities/page/1/\">abilities</a>\n",
    "<a class=\"tag\" href=\"/tag/choices/page/1/\">choices</a>\n",
    "</div>\n",
    "</div>\n",
    "<div class=\"quote\" itemscope=\"\" itemtype=\"http://schema.org/CreativeWork\">\n",
    "<span class=\"text\" itemprop=\"text\">“There are only two ways to live your life. One is as though nothing is a miracle. The other is as though everything is a miracle.”</span>\n",
    "<span>by <small class=\"author\" itemprop=\"author\">Albert Einstein</small>\n",
    "<a href=\"/author/Albert-Einstein\">(about)</a>\n",
    "</span>\n",
    "<div class=\"tags\">\n",
    "            Tags:\n",
    "            <meta class=\"keywords\" content=\"inspirational,life,live,miracle,miracles\" itemprop=\"keywords\"/>\n",
    "<a class=\"tag\" href=\"/tag/inspirational/page/1/\">inspirational</a>\n",
    "<a class=\"tag\" href=\"/tag/life/page/1/\">life</a>\n",
    "<a class=\"tag\" href=\"/tag/live/page/1/\">live</a>\n",
    "<a class=\"tag\" href=\"/tag/miracle/page/1/\">miracle</a>\n",
    "<a class=\"tag\" href=\"/tag/miracles/page/1/\">miracles</a>\n",
    "</div>\n",
    "</div>\n",
    "<div class=\"quote\" itemscope=\"\" itemtype=\"http://schema.org/CreativeWork\">\n",
    "<span class=\"text\" itemprop=\"text\">“The person, be it gentleman or lady, who has not pleasure in a good novel, must be intolerably stupid.”</span>\n",
    "<span>by <small class=\"author\" itemprop=\"author\">Jane Austen</small>\n",
    "<a href=\"/author/Jane-Austen\">(about)</a>\n",
    "</span>\n",
    "<div class=\"tags\">\n",
    "            Tags:\n",
    "            <meta class=\"keywords\" content=\"aliteracy,books,classic,humor\" itemprop=\"keywords\"/>\n",
    "<a class=\"tag\" href=\"/tag/aliteracy/page/1/\">aliteracy</a>\n",
    "<a class=\"tag\" href=\"/tag/books/page/1/\">books</a>\n",
    "<a class=\"tag\" href=\"/tag/classic/page/1/\">classic</a>\n",
    "<a class=\"tag\" href=\"/tag/humor/page/1/\">humor</a>\n",
    "</div>\n",
    "</div>\n",
    "<div class=\"quote\" itemscope=\"\" itemtype=\"http://schema.org/CreativeWork\">\n",
    "<span class=\"text\" itemprop=\"text\">“Imperfection is beauty, madness is genius and it's better to be absolutely ridiculous than absolutely boring.”</span>\n",
    "<span>by <small class=\"author\" itemprop=\"author\">Marilyn Monroe</small>\n",
    "<a href=\"/author/Marilyn-Monroe\">(about)</a>\n",
    "</span>\n",
    "<div class=\"tags\">\n",
    "            Tags:\n",
    "            <meta class=\"keywords\" content=\"be-yourself,inspirational\" itemprop=\"keywords\"/>\n",
    "<a class=\"tag\" href=\"/tag/be-yourself/page/1/\">be-yourself</a>\n",
    "<a class=\"tag\" href=\"/tag/inspirational/page/1/\">inspirational</a>\n",
    "</div>\n",
    "</div>\n",
    "<div class=\"quote\" itemscope=\"\" itemtype=\"http://schema.org/CreativeWork\">\n",
    "<span class=\"text\" itemprop=\"text\">“Try not to become a man of success. Rather become a man of value.”</span>\n",
    "<span>by <small class=\"author\" itemprop=\"author\">Albert Einstein</small>\n",
    "<a href=\"/author/Albert-Einstein\">(about)</a>\n",
    "</span>\n",
    "<div class=\"tags\">\n",
    "            Tags:\n",
    "            <meta class=\"keywords\" content=\"adulthood,success,value\" itemprop=\"keywords\"/>\n",
    "<a class=\"tag\" href=\"/tag/adulthood/page/1/\">adulthood</a>\n",
    "<a class=\"tag\" href=\"/tag/success/page/1/\">success</a>\n",
    "<a class=\"tag\" href=\"/tag/value/page/1/\">value</a>\n",
    "</div>\n",
    "</div>\n",
    "<div class=\"quote\" itemscope=\"\" itemtype=\"http://schema.org/CreativeWork\">\n",
    "<span class=\"text\" itemprop=\"text\">“It is better to be hated for what you are than to be loved for what you are not.”</span>\n",
    "<span>by <small class=\"author\" itemprop=\"author\">André Gide</small>\n",
    "<a href=\"/author/Andre-Gide\">(about)</a>\n",
    "</span>\n",
    "<div class=\"tags\">\n",
    "            Tags:\n",
    "            <meta class=\"keywords\" content=\"life,love\" itemprop=\"keywords\"/>\n",
    "<a class=\"tag\" href=\"/tag/life/page/1/\">life</a>\n",
    "<a class=\"tag\" href=\"/tag/love/page/1/\">love</a>\n",
    "</div>\n",
    "</div>\n",
    "<div class=\"quote\" itemscope=\"\" itemtype=\"http://schema.org/CreativeWork\">\n",
    "<span class=\"text\" itemprop=\"text\">“I have not failed. I've just found 10,000 ways that won't work.”</span>\n",
    "<span>by <small class=\"author\" itemprop=\"author\">Thomas A. Edison</small>\n",
    "<a href=\"/author/Thomas-A-Edison\">(about)</a>\n",
    "</span>\n",
    "<div class=\"tags\">\n",
    "            Tags:\n",
    "            <meta class=\"keywords\" content=\"edison,failure,inspirational,paraphrased\" itemprop=\"keywords\"/>\n",
    "<a class=\"tag\" href=\"/tag/edison/page/1/\">edison</a>\n",
    "<a class=\"tag\" href=\"/tag/failure/page/1/\">failure</a>\n",
    "<a class=\"tag\" href=\"/tag/inspirational/page/1/\">inspirational</a>\n",
    "<a class=\"tag\" href=\"/tag/paraphrased/page/1/\">paraphrased</a>\n",
    "</div>\n",
    "</div>\n",
    "<div class=\"quote\" itemscope=\"\" itemtype=\"http://schema.org/CreativeWork\">\n",
    "<span class=\"text\" itemprop=\"text\">“A woman is like a tea bag; you never know how strong it is until it's in hot water.”</span>\n",
    "<span>by <small class=\"author\" itemprop=\"author\">Eleanor Roosevelt</small>\n",
    "<a href=\"/author/Eleanor-Roosevelt\">(about)</a>\n",
    "</span>\n",
    "<div class=\"tags\">\n",
    "            Tags:\n",
    "            <meta class=\"keywords\" content=\"misattributed-eleanor-roosevelt\" itemprop=\"keywords\"/>\n",
    "<a class=\"tag\" href=\"/tag/misattributed-eleanor-roosevelt/page/1/\">misattributed-eleanor-roosevelt</a>\n",
    "</div>\n",
    "</div>\n",
    "<div class=\"quote\" itemscope=\"\" itemtype=\"http://schema.org/CreativeWork\">\n",
    "<span class=\"text\" itemprop=\"text\">“A day without sunshine is like, you know, night.”</span>\n",
    "<span>by <small class=\"author\" itemprop=\"author\">Steve Martin</small>\n",
    "<a href=\"/author/Steve-Martin\">(about)</a>\n",
    "</span>\n",
    "<div class=\"tags\">\n",
    "            Tags:\n",
    "            <meta class=\"keywords\" content=\"humor,obvious,simile\" itemprop=\"keywords\"/>\n",
    "<a class=\"tag\" href=\"/tag/humor/page/1/\">humor</a>\n",
    "<a class=\"tag\" href=\"/tag/obvious/page/1/\">obvious</a>\n",
    "<a class=\"tag\" href=\"/tag/simile/page/1/\">simile</a>\n",
    "</div>\n",
    "</div>\n",
    "<nav>\n",
    "<ul class=\"pager\">\n",
    "<li class=\"next\">\n",
    "<a href=\"/page/2/\">Next <span aria-hidden=\"true\">→</span></a>\n",
    "</li>\n",
    "</ul>\n",
    "</nav>\n",
    "</div>\n",
    "<div class=\"col-md-4 tags-box\">\n",
    "<h2>Top Ten tags</h2>\n",
    "<span class=\"tag-item\">\n",
    "<a class=\"tag\" href=\"/tag/love/\" style=\"font-size: 28px\">love</a>\n",
    "</span>\n",
    "<span class=\"tag-item\">\n",
    "<a class=\"tag\" href=\"/tag/inspirational/\" style=\"font-size: 26px\">inspirational</a>\n",
    "</span>\n",
    "<span class=\"tag-item\">\n",
    "<a class=\"tag\" href=\"/tag/life/\" style=\"font-size: 26px\">life</a>\n",
    "</span>\n",
    "<span class=\"tag-item\">\n",
    "<a class=\"tag\" href=\"/tag/humor/\" style=\"font-size: 24px\">humor</a>\n",
    "</span>\n",
    "<span class=\"tag-item\">\n",
    "<a class=\"tag\" href=\"/tag/books/\" style=\"font-size: 22px\">books</a>\n",
    "</span>\n",
    "<span class=\"tag-item\">\n",
    "<a class=\"tag\" href=\"/tag/reading/\" style=\"font-size: 14px\">reading</a>\n",
    "</span>\n",
    "<span class=\"tag-item\">\n",
    "<a class=\"tag\" href=\"/tag/friendship/\" style=\"font-size: 10px\">friendship</a>\n",
    "</span>\n",
    "<span class=\"tag-item\">\n",
    "<a class=\"tag\" href=\"/tag/friends/\" style=\"font-size: 8px\">friends</a>\n",
    "</span>\n",
    "<span class=\"tag-item\">\n",
    "<a class=\"tag\" href=\"/tag/truth/\" style=\"font-size: 8px\">truth</a>\n",
    "</span>\n",
    "<span class=\"tag-item\">\n",
    "<a class=\"tag\" href=\"/tag/simile/\" style=\"font-size: 6px\">simile</a>\n",
    "</span>\n",
    "</div>\n",
    "</div>\n",
    "</div>"
   ]
  },
  {
   "cell_type": "code",
   "execution_count": null,
   "id": "8dcc3951-2824-4164-9cfb-bcc5087b0cd9",
   "metadata": {},
   "outputs": [],
   "source": [
    "first_div = bSoup.div\n",
    "\n",
    "type(first_div)"
   ]
  },
  {
   "cell_type": "raw",
   "id": "5ab2977b-2913-4048-9fd8-43a8bd3a3976",
   "metadata": {},
   "source": [
    "bs4.element.Tag"
   ]
  },
  {
   "cell_type": "code",
   "execution_count": null,
   "id": "1aa63dda-4b0d-4876-b5ec-811802cf95bb",
   "metadata": {},
   "outputs": [],
   "source": [
    "first_div.attrs"
   ]
  },
  {
   "cell_type": "raw",
   "id": "f3c67b12-b6b4-4222-b3c8-5243356f0d8e",
   "metadata": {},
   "source": [
    "{'class': ['container']}"
   ]
  },
  {
   "cell_type": "code",
   "execution_count": null,
   "id": "c1060ce2-6314-4885-966a-907519b9263c",
   "metadata": {},
   "outputs": [],
   "source": [
    "first_div.div.attrs"
   ]
  },
  {
   "cell_type": "raw",
   "id": "a5f0edc7-f1d9-4e37-b1db-1f68f52fbb15",
   "metadata": {},
   "source": [
    "{'class': ['row', 'header-box']}"
   ]
  },
  {
   "cell_type": "code",
   "execution_count": null,
   "id": "53069ff7-7f04-42ce-8088-b208d982f982",
   "metadata": {},
   "outputs": [],
   "source": [
    "first_div.div.div.attrs"
   ]
  },
  {
   "cell_type": "raw",
   "id": "ecce34b9-8fdc-4b75-a323-f9ad0f97bc37",
   "metadata": {},
   "source": [
    "{'class': ['col-md-8']}"
   ]
  },
  {
   "cell_type": "code",
   "execution_count": null,
   "id": "0272df6c-78ed-4648-aa21-5e55645ed2ba",
   "metadata": {},
   "outputs": [],
   "source": [
    "first_div.div.div.a"
   ]
  },
  {
   "cell_type": "raw",
   "id": "ad6ac753-dce1-4ea5-bbe3-a26301495c4b",
   "metadata": {},
   "source": [
    "<a href=\"/\" style=\"text-decoration: none\">Quotes to Scrape</a>"
   ]
  },
  {
   "cell_type": "code",
   "execution_count": null,
   "id": "14bd4013-20c2-444e-8324-a221776522d8",
   "metadata": {},
   "outputs": [],
   "source": [
    "bSoup.ul"
   ]
  },
  {
   "cell_type": "raw",
   "id": "64def56c-b2cf-4b9a-a502-4b70b1af483d",
   "metadata": {},
   "source": [
    "<ul class=\"pager\">\n",
    "<li class=\"next\">\n",
    "<a href=\"/page/2/\">Next <span aria-hidden=\"true\">→</span></a>\n",
    "</li>\n",
    "</ul>"
   ]
  },
  {
   "cell_type": "code",
   "execution_count": null,
   "id": "edec387b-2461-4858-a893-65f228857dd1",
   "metadata": {},
   "outputs": [],
   "source": [
    "ulTag = bSoup.ul\n",
    "ulTag.li"
   ]
  },
  {
   "cell_type": "raw",
   "id": "1ff877c9-5af3-484e-9e15-9482552f5a80",
   "metadata": {},
   "source": [
    "<li class=\"next\">\n",
    "<a href=\"/page/2/\">Next <span aria-hidden=\"true\">→</span></a>\n",
    "</li>"
   ]
  },
  {
   "cell_type": "code",
   "execution_count": null,
   "id": "d960993e-8583-4dba-b253-228b1b80b3ab",
   "metadata": {},
   "outputs": [],
   "source": [
    "list(ulTag.children)"
   ]
  },
  {
   "cell_type": "raw",
   "id": "68eba14b-9108-448e-8052-e9d0a76efe8f",
   "metadata": {},
   "source": [
    "['\\n',\n",
    " <li class=\"next\">\n",
    " <a href=\"/page/2/\">Next <span aria-hidden=\"true\">→</span></a>\n",
    " </li>,\n",
    " '\\n']"
   ]
  },
  {
   "cell_type": "code",
   "execution_count": null,
   "id": "465dead2-751f-4458-97fd-b5193d2bad04",
   "metadata": {},
   "outputs": [],
   "source": [
    "from bs4.element import NavigableString\n",
    "list(ulTag.children)[0]\n",
    "\n",
    "type(list(ulTag.children)[0])"
   ]
  },
  {
   "cell_type": "raw",
   "id": "a74be7e9-7fb2-4831-ac93-5482ebe10802",
   "metadata": {},
   "source": [
    "bs4.element.NavigableString"
   ]
  },
  {
   "cell_type": "code",
   "execution_count": null,
   "id": "d07df7f6-2033-465a-b05e-aa4bb0204852",
   "metadata": {},
   "outputs": [],
   "source": [
    "list(filter(lambda x : type(x) != NavigableString, ulTag.children))"
   ]
  },
  {
   "cell_type": "raw",
   "id": "b2f80beb-2ebc-4c13-9f90-2e99ae07d327",
   "metadata": {},
   "source": [
    "[<li class=\"next\">\n",
    " <a href=\"/page/2/\">Next <span aria-hidden=\"true\">→</span></a>\n",
    " </li>]"
   ]
  },
  {
   "cell_type": "code",
   "execution_count": null,
   "id": "f4333c62-ed31-4090-9f80-dd5c67b36ae8",
   "metadata": {},
   "outputs": [],
   "source": [
    "def removeNavigableList(elem):\n",
    "    return list(filter(lambda x: type(x) != NavigableString, elem))\n",
    "removeNavigableList(bSoup.ul.children)"
   ]
  },
  {
   "cell_type": "raw",
   "id": "71aba8c6-9fb9-42a2-b9a8-d70dca65c3df",
   "metadata": {},
   "source": [
    "[<li class=\"next\">\n",
    " <a href=\"/page/2/\">Next <span aria-hidden=\"true\">→</span></a>\n",
    " </li>]"
   ]
  },
  {
   "cell_type": "markdown",
   "id": "1ce587b0-7bc7-498d-a0c3-66bd33f98e3e",
   "metadata": {},
   "source": [
    "## Descendent"
   ]
  },
  {
   "cell_type": "code",
   "execution_count": null,
   "id": "56ce3464-4c45-4276-b800-e2c5caf2b51a",
   "metadata": {},
   "outputs": [],
   "source": [
    "bSoup.ul.descendants"
   ]
  },
  {
   "cell_type": "raw",
   "id": "ec397617-7b3d-40d7-b13d-e391d05119d0",
   "metadata": {},
   "source": [
    "<generator object Tag.descendants at 0x000001A950670E10>"
   ]
  },
  {
   "cell_type": "code",
   "execution_count": null,
   "id": "0b1e6099-57c0-4f25-9481-aa6f04866c49",
   "metadata": {},
   "outputs": [],
   "source": [
    "list(bSoup.ul.descendants)"
   ]
  },
  {
   "cell_type": "raw",
   "id": "6b6d0ef0-797c-41b6-948f-43d38f4cbb2e",
   "metadata": {},
   "source": [
    "['\\n',\n",
    " <li class=\"next\">\n",
    " <a href=\"/page/2/\">Next <span aria-hidden=\"true\">→</span></a>\n",
    " </li>,\n",
    " '\\n',\n",
    " <a href=\"/page/2/\">Next <span aria-hidden=\"true\">→</span></a>,\n",
    " 'Next ',\n",
    " <span aria-hidden=\"true\">→</span>,\n",
    " '→',\n",
    " '\\n',\n",
    " '\\n']"
   ]
  },
  {
   "cell_type": "code",
   "execution_count": null,
   "id": "31735d1c-f6f2-472b-9e18-67c5d458947f",
   "metadata": {},
   "outputs": [],
   "source": [
    "DesUl = removeNavigableList(bSoup.ul.descendants)\n",
    "DesUl"
   ]
  },
  {
   "cell_type": "raw",
   "id": "f0897e44-218e-4008-adb7-7c13e06481b0",
   "metadata": {},
   "source": [
    "\n",
    "[<li class=\"next\">\n",
    " <a href=\"/page/2/\">Next <span aria-hidden=\"true\">→</span></a>\n",
    " </li>,\n",
    " <a href=\"/page/2/\">Next <span aria-hidden=\"true\">→</span></a>,\n",
    " <span aria-hidden=\"true\">→</span>]\n"
   ]
  },
  {
   "cell_type": "code",
   "execution_count": null,
   "id": "b94c540f-408c-447c-b0d1-f2c15d3eec48",
   "metadata": {},
   "outputs": [],
   "source": [
    "removeNavigableList(first_div.children)"
   ]
  },
  {
   "cell_type": "raw",
   "id": "fc3011ec-52de-44ff-a1a5-d99baa879f06",
   "metadata": {},
   "source": [
    "[<div class=\"row header-box\">\n",
    " <div class=\"col-md-8\">\n",
    " <h1>\n",
    " <a href=\"/\" style=\"text-decoration: none\">Quotes to Scrape</a>\n",
    " </h1>\n",
    " </div>\n",
    " <div class=\"col-md-4\">\n",
    " <p>\n",
    " <a href=\"/login\">Login</a>\n",
    " </p>\n",
    " </div>\n",
    " </div>,\n",
    " <div class=\"row\">\n",
    " <div class=\"col-md-8\">\n",
    " <div class=\"quote\" itemscope=\"\" itemtype=\"http://schema.org/CreativeWork\">\n",
    " <span class=\"text\" itemprop=\"text\">“The world as we have created it is a process of our thinking. It cannot be changed without changing our thinking.”</span>\n",
    " <span>by <small class=\"author\" itemprop=\"author\">Albert Einstein</small>\n",
    " <a href=\"/author/Albert-Einstein\">(about)</a>\n",
    " </span>\n",
    " <div class=\"tags\">\n",
    "             Tags:\n",
    "             <meta class=\"keywords\" content=\"change,deep-thoughts,thinking,world\" itemprop=\"keywords\"/>\n",
    " <a class=\"tag\" href=\"/tag/change/page/1/\">change</a>\n",
    " <a class=\"tag\" href=\"/tag/deep-thoughts/page/1/\">deep-thoughts</a>\n",
    " <a class=\"tag\" href=\"/tag/thinking/page/1/\">thinking</a>\n",
    " <a class=\"tag\" href=\"/tag/world/page/1/\">world</a>\n",
    " </div>\n",
    " </div>\n",
    " <div class=\"quote\" itemscope=\"\" itemtype=\"http://schema.org/CreativeWork\">\n",
    " <span class=\"text\" itemprop=\"text\">“It is our choices, Harry, that show what we truly are, far more than our abilities.”</span>\n",
    " <span>by <small class=\"author\" itemprop=\"author\">J.K. Rowling</small>\n",
    " <a href=\"/author/J-K-Rowling\">(about)</a>\n",
    " </span>\n",
    " <div class=\"tags\">\n",
    "             Tags:\n",
    "             <meta class=\"keywords\" content=\"abilities,choices\" itemprop=\"keywords\"/>\n",
    " <a class=\"tag\" href=\"/tag/abilities/page/1/\">abilities</a>\n",
    " <a class=\"tag\" href=\"/tag/choices/page/1/\">choices</a>\n",
    " </div>\n",
    " </div>\n",
    " <div class=\"quote\" itemscope=\"\" itemtype=\"http://schema.org/CreativeWork\">\n",
    " <span class=\"text\" itemprop=\"text\">“There are only two ways to live your life. One is as though nothing is a miracle. The other is as though everything is a miracle.”</span>\n",
    " <span>by <small class=\"author\" itemprop=\"author\">Albert Einstein</small>\n",
    " <a href=\"/author/Albert-Einstein\">(about)</a>\n",
    " </span>\n",
    " <div class=\"tags\">\n",
    "             Tags:\n",
    "             <meta class=\"keywords\" content=\"inspirational,life,live,miracle,miracles\" itemprop=\"keywords\"/>\n",
    " <a class=\"tag\" href=\"/tag/inspirational/page/1/\">inspirational</a>\n",
    " <a class=\"tag\" href=\"/tag/life/page/1/\">life</a>\n",
    " <a class=\"tag\" href=\"/tag/live/page/1/\">live</a>\n",
    " <a class=\"tag\" href=\"/tag/miracle/page/1/\">miracle</a>\n",
    " <a class=\"tag\" href=\"/tag/miracles/page/1/\">miracles</a>\n",
    " </div>\n",
    " </div>\n",
    " <div class=\"quote\" itemscope=\"\" itemtype=\"http://schema.org/CreativeWork\">\n",
    " <span class=\"text\" itemprop=\"text\">“The person, be it gentleman or lady, who has not pleasure in a good novel, must be intolerably stupid.”</span>\n",
    " <span>by <small class=\"author\" itemprop=\"author\">Jane Austen</small>\n",
    " <a href=\"/author/Jane-Austen\">(about)</a>\n",
    " </span>\n",
    " <div class=\"tags\">\n",
    "             Tags:\n",
    "             <meta class=\"keywords\" content=\"aliteracy,books,classic,humor\" itemprop=\"keywords\"/>\n",
    " <a class=\"tag\" href=\"/tag/aliteracy/page/1/\">aliteracy</a>\n",
    " <a class=\"tag\" href=\"/tag/books/page/1/\">books</a>\n",
    " <a class=\"tag\" href=\"/tag/classic/page/1/\">classic</a>\n",
    " <a class=\"tag\" href=\"/tag/humor/page/1/\">humor</a>\n",
    " </div>\n",
    " </div>\n",
    " <div class=\"quote\" itemscope=\"\" itemtype=\"http://schema.org/CreativeWork\">\n",
    " <span class=\"text\" itemprop=\"text\">“Imperfection is beauty, madness is genius and it's better to be absolutely ridiculous than absolutely boring.”</span>\n",
    " <span>by <small class=\"author\" itemprop=\"author\">Marilyn Monroe</small>\n",
    " <a href=\"/author/Marilyn-Monroe\">(about)</a>\n",
    " </span>\n",
    " <div class=\"tags\">\n",
    "             Tags:\n",
    "             <meta class=\"keywords\" content=\"be-yourself,inspirational\" itemprop=\"keywords\"/>\n",
    " <a class=\"tag\" href=\"/tag/be-yourself/page/1/\">be-yourself</a>\n",
    " <a class=\"tag\" href=\"/tag/inspirational/page/1/\">inspirational</a>\n",
    " </div>\n",
    " </div>\n",
    " <div class=\"quote\" itemscope=\"\" itemtype=\"http://schema.org/CreativeWork\">\n",
    " <span class=\"text\" itemprop=\"text\">“Try not to become a man of success. Rather become a man of value.”</span>\n",
    " <span>by <small class=\"author\" itemprop=\"author\">Albert Einstein</small>\n",
    " <a href=\"/author/Albert-Einstein\">(about)</a>\n",
    " </span>\n",
    " <div class=\"tags\">\n",
    "             Tags:\n",
    "             <meta class=\"keywords\" content=\"adulthood,success,value\" itemprop=\"keywords\"/>\n",
    " <a class=\"tag\" href=\"/tag/adulthood/page/1/\">adulthood</a>\n",
    " <a class=\"tag\" href=\"/tag/success/page/1/\">success</a>\n",
    " <a class=\"tag\" href=\"/tag/value/page/1/\">value</a>\n",
    " </div>\n",
    " </div>\n",
    " <div class=\"quote\" itemscope=\"\" itemtype=\"http://schema.org/CreativeWork\">\n",
    " <span class=\"text\" itemprop=\"text\">“It is better to be hated for what you are than to be loved for what you are not.”</span>\n",
    " <span>by <small class=\"author\" itemprop=\"author\">André Gide</small>\n",
    " <a href=\"/author/Andre-Gide\">(about)</a>\n",
    " </span>\n",
    " <div class=\"tags\">\n",
    "             Tags:\n",
    "             <meta class=\"keywords\" content=\"life,love\" itemprop=\"keywords\"/>\n",
    " <a class=\"tag\" href=\"/tag/life/page/1/\">life</a>\n",
    " <a class=\"tag\" href=\"/tag/love/page/1/\">love</a>\n",
    " </div>\n",
    " </div>\n",
    " <div class=\"quote\" itemscope=\"\" itemtype=\"http://schema.org/CreativeWork\">\n",
    " <span class=\"text\" itemprop=\"text\">“I have not failed. I've just found 10,000 ways that won't work.”</span>\n",
    " <span>by <small class=\"author\" itemprop=\"author\">Thomas A. Edison</small>\n",
    " <a href=\"/author/Thomas-A-Edison\">(about)</a>\n",
    " </span>\n",
    " <div class=\"tags\">\n",
    "             Tags:\n",
    "             <meta class=\"keywords\" content=\"edison,failure,inspirational,paraphrased\" itemprop=\"keywords\"/>\n",
    " <a class=\"tag\" href=\"/tag/edison/page/1/\">edison</a>\n",
    " <a class=\"tag\" href=\"/tag/failure/page/1/\">failure</a>\n",
    " <a class=\"tag\" href=\"/tag/inspirational/page/1/\">inspirational</a>\n",
    " <a class=\"tag\" href=\"/tag/paraphrased/page/1/\">paraphrased</a>\n",
    " </div>\n",
    " </div>\n",
    " <div class=\"quote\" itemscope=\"\" itemtype=\"http://schema.org/CreativeWork\">\n",
    " <span class=\"text\" itemprop=\"text\">“A woman is like a tea bag; you never know how strong it is until it's in hot water.”</span>\n",
    " <span>by <small class=\"author\" itemprop=\"author\">Eleanor Roosevelt</small>\n",
    " <a href=\"/author/Eleanor-Roosevelt\">(about)</a>\n",
    " </span>\n",
    " <div class=\"tags\">\n",
    "             Tags:\n",
    "             <meta class=\"keywords\" content=\"misattributed-eleanor-roosevelt\" itemprop=\"keywords\"/>\n",
    " <a class=\"tag\" href=\"/tag/misattributed-eleanor-roosevelt/page/1/\">misattributed-eleanor-roosevelt</a>\n",
    " </div>\n",
    " </div>\n",
    " <div class=\"quote\" itemscope=\"\" itemtype=\"http://schema.org/CreativeWork\">\n",
    " <span class=\"text\" itemprop=\"text\">“A day without sunshine is like, you know, night.”</span>\n",
    " <span>by <small class=\"author\" itemprop=\"author\">Steve Martin</small>\n",
    " <a href=\"/author/Steve-Martin\">(about)</a>\n",
    " </span>\n",
    " <div class=\"tags\">\n",
    "             Tags:\n",
    "             <meta class=\"keywords\" content=\"humor,obvious,simile\" itemprop=\"keywords\"/>\n",
    " <a class=\"tag\" href=\"/tag/humor/page/1/\">humor</a>\n",
    " <a class=\"tag\" href=\"/tag/obvious/page/1/\">obvious</a>\n",
    " <a class=\"tag\" href=\"/tag/simile/page/1/\">simile</a>\n",
    " </div>\n",
    " </div>\n",
    " <nav>\n",
    " <ul class=\"pager\">\n",
    " <li class=\"next\">\n",
    " <a href=\"/page/2/\">Next <span aria-hidden=\"true\">→</span></a>\n",
    " </li>\n",
    " </ul>\n",
    " </nav>\n",
    " </div>\n",
    " <div class=\"col-md-4 tags-box\">\n",
    " <h2>Top Ten tags</h2>\n",
    " <span class=\"tag-item\">\n",
    " <a class=\"tag\" href=\"/tag/love/\" style=\"font-size: 28px\">love</a>\n",
    " </span>\n",
    " <span class=\"tag-item\">\n",
    " <a class=\"tag\" href=\"/tag/inspirational/\" style=\"font-size: 26px\">inspirational</a>\n",
    " </span>\n",
    " <span class=\"tag-item\">\n",
    " <a class=\"tag\" href=\"/tag/life/\" style=\"font-size: 26px\">life</a>\n",
    " </span>\n",
    " <span class=\"tag-item\">\n",
    " <a class=\"tag\" href=\"/tag/humor/\" style=\"font-size: 24px\">humor</a>\n",
    " </span>\n",
    " <span class=\"tag-item\">\n",
    " <a class=\"tag\" href=\"/tag/books/\" style=\"font-size: 22px\">books</a>\n",
    " </span>\n",
    " <span class=\"tag-item\">\n",
    " <a class=\"tag\" href=\"/tag/reading/\" style=\"font-size: 14px\">reading</a>\n",
    " </span>\n",
    " <span class=\"tag-item\">\n",
    " <a class=\"tag\" href=\"/tag/friendship/\" style=\"font-size: 10px\">friendship</a>\n",
    " </span>\n",
    " <span class=\"tag-item\">\n",
    " <a class=\"tag\" href=\"/tag/friends/\" style=\"font-size: 8px\">friends</a>\n",
    " </span>\n",
    " <span class=\"tag-item\">\n",
    " <a class=\"tag\" href=\"/tag/truth/\" style=\"font-size: 8px\">truth</a>\n",
    " </span>\n",
    " <span class=\"tag-item\">\n",
    " <a class=\"tag\" href=\"/tag/simile/\" style=\"font-size: 6px\">simile</a>\n",
    " </span>\n",
    " </div>\n",
    " </div>]"
   ]
  },
  {
   "cell_type": "markdown",
   "id": "4555154f-3071-4583-b3ce-fa52f3312672",
   "metadata": {},
   "source": [
    "## Sibling"
   ]
  },
  {
   "cell_type": "code",
   "execution_count": null,
   "id": "567b4c49-b480-4965-b29a-19b3fc698284",
   "metadata": {},
   "outputs": [],
   "source": [
    "ulTag.nextSibling.nextSibling\n",
    "list(bSoup.ul)"
   ]
  },
  {
   "cell_type": "raw",
   "id": "7fa08ff0-cccf-4154-baba-911334887832",
   "metadata": {},
   "source": [
    "['\\n',\n",
    " <li class=\"next\">\n",
    " <a href=\"/page/2/\">Next <span aria-hidden=\"true\">→</span></a>\n",
    " </li>,\n",
    " '\\n']"
   ]
  },
  {
   "cell_type": "code",
   "execution_count": null,
   "id": "878f1aa1-ad7f-4b35-b7c5-cdf271d770aa",
   "metadata": {},
   "outputs": [],
   "source": [
    "bSoup.ul.li.nextSibling"
   ]
  },
  {
   "cell_type": "raw",
   "id": "a4e73d86-d520-4ba2-b616-e8da36bc6320",
   "metadata": {},
   "source": [
    "'\\n'"
   ]
  },
  {
   "cell_type": "code",
   "execution_count": null,
   "id": "d1b6a4fc-1a7f-42b9-9fd8-22e2ee254ddd",
   "metadata": {},
   "outputs": [],
   "source": [
    "bSoup.ul.li.nextSibling.previous_sibling"
   ]
  },
  {
   "cell_type": "raw",
   "id": "60f16a52-e250-4652-8250-744b546858d1",
   "metadata": {},
   "source": [
    "\n",
    "<li class=\"next\">\n",
    "<a href=\"/page/2/\">Next <span aria-hidden=\"true\">→</span></a>\n",
    "</li>"
   ]
  },
  {
   "cell_type": "code",
   "execution_count": null,
   "id": "6c12855a-9f16-4da5-a133-5f6e13a9e341",
   "metadata": {},
   "outputs": [],
   "source": [
    "bSoup.a.text"
   ]
  },
  {
   "cell_type": "raw",
   "id": "a6e68378-dc2f-493a-a8f1-0109f8ce646e",
   "metadata": {},
   "source": [
    "'Quotes to Scrape'"
   ]
  },
  {
   "cell_type": "code",
   "execution_count": null,
   "id": "edca2a5d-d4e0-4726-82b8-ee6b5384745e",
   "metadata": {},
   "outputs": [],
   "source": [
    "bSoup.a.getText()"
   ]
  },
  {
   "cell_type": "raw",
   "id": "6b86b4a6-addd-488b-b2a8-f1a730774d8d",
   "metadata": {},
   "source": [
    "'Quotes to Scrape'"
   ]
  },
  {
   "cell_type": "code",
   "execution_count": null,
   "id": "280e33db-c5e9-4363-8022-7c787a0bf7ba",
   "metadata": {},
   "outputs": [],
   "source": [
    "bSoup.a.string"
   ]
  },
  {
   "cell_type": "raw",
   "id": "6831578d-b048-4fad-9127-12e8629c3f16",
   "metadata": {},
   "source": [
    "'Quotes to Scrape'"
   ]
  },
  {
   "cell_type": "code",
   "execution_count": null,
   "id": "6968982d-d964-4f5b-848d-f7110d3de148",
   "metadata": {},
   "outputs": [],
   "source": [
    "bSoup.ul.getText()"
   ]
  },
  {
   "cell_type": "raw",
   "id": "806614f2-09de-4fb0-afd9-40fa20c5bfeb",
   "metadata": {},
   "source": [
    "'\\n\\nNext →\\n\\n'"
   ]
  },
  {
   "cell_type": "code",
   "execution_count": null,
   "id": "ff35a4ba-53f2-4849-b4d2-2f82be1e0fb8",
   "metadata": {},
   "outputs": [],
   "source": [
    "bSoup.find('a')"
   ]
  },
  {
   "cell_type": "raw",
   "id": "c8c88dfb-a31a-4ce8-8220-134e01abf49b",
   "metadata": {},
   "source": [
    "<a href=\"/\" style=\"text-decoration: none\">Quotes to Scrape</a>"
   ]
  },
  {
   "cell_type": "code",
   "execution_count": null,
   "id": "d9b11f4e-6f39-4274-80aa-0fa31bea9508",
   "metadata": {},
   "outputs": [],
   "source": [
    "bSoup.findAll('a')"
   ]
  },
  {
   "cell_type": "raw",
   "id": "f577224b-16e2-42ff-84d5-6b49e7b9f1f9",
   "metadata": {},
   "source": [
    "[<a href=\"/\" style=\"text-decoration: none\">Quotes to Scrape</a>,\n",
    " <a href=\"/login\">Login</a>,\n",
    " <a href=\"/author/Albert-Einstein\">(about)</a>,\n",
    " <a class=\"tag\" href=\"/tag/change/page/1/\">change</a>,\n",
    " <a class=\"tag\" href=\"/tag/deep-thoughts/page/1/\">deep-thoughts</a>,\n",
    " <a class=\"tag\" href=\"/tag/thinking/page/1/\">thinking</a>,\n",
    " <a class=\"tag\" href=\"/tag/world/page/1/\">world</a>,\n",
    " <a href=\"/author/J-K-Rowling\">(about)</a>,\n",
    " <a class=\"tag\" href=\"/tag/abilities/page/1/\">abilities</a>,\n",
    " <a class=\"tag\" href=\"/tag/choices/page/1/\">choices</a>,\n",
    " <a href=\"/author/Albert-Einstein\">(about)</a>,\n",
    " <a class=\"tag\" href=\"/tag/inspirational/page/1/\">inspirational</a>,\n",
    " <a class=\"tag\" href=\"/tag/life/page/1/\">life</a>,\n",
    " <a class=\"tag\" href=\"/tag/live/page/1/\">live</a>,\n",
    " <a class=\"tag\" href=\"/tag/miracle/page/1/\">miracle</a>,\n",
    " <a class=\"tag\" href=\"/tag/miracles/page/1/\">miracles</a>,\n",
    " <a href=\"/author/Jane-Austen\">(about)</a>,\n",
    " <a class=\"tag\" href=\"/tag/aliteracy/page/1/\">aliteracy</a>,\n",
    " <a class=\"tag\" href=\"/tag/books/page/1/\">books</a>,\n",
    " <a class=\"tag\" href=\"/tag/classic/page/1/\">classic</a>,\n",
    " <a class=\"tag\" href=\"/tag/humor/page/1/\">humor</a>,\n",
    " <a href=\"/author/Marilyn-Monroe\">(about)</a>,\n",
    " <a class=\"tag\" href=\"/tag/be-yourself/page/1/\">be-yourself</a>,\n",
    " <a class=\"tag\" href=\"/tag/inspirational/page/1/\">inspirational</a>,\n",
    " <a href=\"/author/Albert-Einstein\">(about)</a>,\n",
    " <a class=\"tag\" href=\"/tag/adulthood/page/1/\">adulthood</a>,\n",
    " <a class=\"tag\" href=\"/tag/success/page/1/\">success</a>,\n",
    " <a class=\"tag\" href=\"/tag/value/page/1/\">value</a>,\n",
    " <a href=\"/author/Andre-Gide\">(about)</a>,\n",
    " <a class=\"tag\" href=\"/tag/life/page/1/\">life</a>,\n",
    " <a class=\"tag\" href=\"/tag/love/page/1/\">love</a>,\n",
    " <a href=\"/author/Thomas-A-Edison\">(about)</a>,\n",
    " <a class=\"tag\" href=\"/tag/edison/page/1/\">edison</a>,\n",
    " <a class=\"tag\" href=\"/tag/failure/page/1/\">failure</a>,\n",
    " <a class=\"tag\" href=\"/tag/inspirational/page/1/\">inspirational</a>,\n",
    " <a class=\"tag\" href=\"/tag/paraphrased/page/1/\">paraphrased</a>,\n",
    " <a href=\"/author/Eleanor-Roosevelt\">(about)</a>,\n",
    " <a class=\"tag\" href=\"/tag/misattributed-eleanor-roosevelt/page/1/\">misattributed-eleanor-roosevelt</a>,\n",
    " <a href=\"/author/Steve-Martin\">(about)</a>,\n",
    " <a class=\"tag\" href=\"/tag/humor/page/1/\">humor</a>,\n",
    " <a class=\"tag\" href=\"/tag/obvious/page/1/\">obvious</a>,\n",
    " <a class=\"tag\" href=\"/tag/simile/page/1/\">simile</a>,\n",
    " <a href=\"/page/2/\">Next <span aria-hidden=\"true\">→</span></a>,\n",
    " <a class=\"tag\" href=\"/tag/love/\" style=\"font-size: 28px\">love</a>,\n",
    " <a class=\"tag\" href=\"/tag/inspirational/\" style=\"font-size: 26px\">inspirational</a>,\n",
    " <a class=\"tag\" href=\"/tag/life/\" style=\"font-size: 26px\">life</a>,\n",
    " <a class=\"tag\" href=\"/tag/humor/\" style=\"font-size: 24px\">humor</a>,\n",
    " <a class=\"tag\" href=\"/tag/books/\" style=\"font-size: 22px\">books</a>,\n",
    " <a class=\"tag\" href=\"/tag/reading/\" style=\"font-size: 14px\">reading</a>,\n",
    " <a class=\"tag\" href=\"/tag/friendship/\" style=\"font-size: 10px\">friendship</a>,\n",
    " <a class=\"tag\" href=\"/tag/friends/\" style=\"font-size: 8px\">friends</a>,\n",
    " <a class=\"tag\" href=\"/tag/truth/\" style=\"font-size: 8px\">truth</a>,\n",
    " <a class=\"tag\" href=\"/tag/simile/\" style=\"font-size: 6px\">simile</a>,\n",
    " <a href=\"https://www.goodreads.com/quotes\">GoodReads.com</a>,\n",
    " <a class=\"zyte\" href=\"https://www.zyte.com\">Zyte</a>]"
   ]
  },
  {
   "cell_type": "code",
   "execution_count": null,
   "id": "f19735d9-df36-4d2b-97ae-3ca1c3d15f9e",
   "metadata": {},
   "outputs": [],
   "source": [
    "bSoup.find_all('span')"
   ]
  },
  {
   "cell_type": "raw",
   "id": "b9ad0721-b018-4bfb-801c-3b4a5655e522",
   "metadata": {},
   "source": [
    "[<span class=\"text\" itemprop=\"text\">“The world as we have created it is a process of our thinking. It cannot be changed without changing our thinking.”</span>,\n",
    " <span>by <small class=\"author\" itemprop=\"author\">Albert Einstein</small>\n",
    " <a href=\"/author/Albert-Einstein\">(about)</a>\n",
    " </span>,\n",
    " <span class=\"text\" itemprop=\"text\">“It is our choices, Harry, that show what we truly are, far more than our abilities.”</span>,\n",
    " <span>by <small class=\"author\" itemprop=\"author\">J.K. Rowling</small>\n",
    " <a href=\"/author/J-K-Rowling\">(about)</a>\n",
    " </span>,\n",
    " <span class=\"text\" itemprop=\"text\">“There are only two ways to live your life. One is as though nothing is a miracle. The other is as though everything is a miracle.”</span>,\n",
    " <span>by <small class=\"author\" itemprop=\"author\">Albert Einstein</small>\n",
    " <a href=\"/author/Albert-Einstein\">(about)</a>\n",
    " </span>,\n",
    " <span class=\"text\" itemprop=\"text\">“The person, be it gentleman or lady, who has not pleasure in a good novel, must be intolerably stupid.”</span>,\n",
    " <span>by <small class=\"author\" itemprop=\"author\">Jane Austen</small>\n",
    " <a href=\"/author/Jane-Austen\">(about)</a>\n",
    " </span>,\n",
    " <span class=\"text\" itemprop=\"text\">“Imperfection is beauty, madness is genius and it's better to be absolutely ridiculous than absolutely boring.”</span>,\n",
    " <span>by <small class=\"author\" itemprop=\"author\">Marilyn Monroe</small>\n",
    " <a href=\"/author/Marilyn-Monroe\">(about)</a>\n",
    " </span>,\n",
    " <span class=\"text\" itemprop=\"text\">“Try not to become a man of success. Rather become a man of value.”</span>,\n",
    " <span>by <small class=\"author\" itemprop=\"author\">Albert Einstein</small>\n",
    " <a href=\"/author/Albert-Einstein\">(about)</a>\n",
    " </span>,\n",
    " <span class=\"text\" itemprop=\"text\">“It is better to be hated for what you are than to be loved for what you are not.”</span>,\n",
    " <span>by <small class=\"author\" itemprop=\"author\">André Gide</small>\n",
    " <a href=\"/author/Andre-Gide\">(about)</a>\n",
    " </span>,\n",
    " <span class=\"text\" itemprop=\"text\">“I have not failed. I've just found 10,000 ways that won't work.”</span>,\n",
    " <span>by <small class=\"author\" itemprop=\"author\">Thomas A. Edison</small>\n",
    " <a href=\"/author/Thomas-A-Edison\">(about)</a>\n",
    " </span>,\n",
    " <span class=\"text\" itemprop=\"text\">“A woman is like a tea bag; you never know how strong it is until it's in hot water.”</span>,\n",
    " <span>by <small class=\"author\" itemprop=\"author\">Eleanor Roosevelt</small>\n",
    " <a href=\"/author/Eleanor-Roosevelt\">(about)</a>\n",
    " </span>,\n",
    " <span class=\"text\" itemprop=\"text\">“A day without sunshine is like, you know, night.”</span>,\n",
    " <span>by <small class=\"author\" itemprop=\"author\">Steve Martin</small>\n",
    " <a href=\"/author/Steve-Martin\">(about)</a>\n",
    " </span>,\n",
    " <span aria-hidden=\"true\">→</span>,\n",
    " <span class=\"tag-item\">\n",
    " <a class=\"tag\" href=\"/tag/love/\" style=\"font-size: 28px\">love</a>\n",
    " </span>,\n",
    " <span class=\"tag-item\">\n",
    " <a class=\"tag\" href=\"/tag/inspirational/\" style=\"font-size: 26px\">inspirational</a>\n",
    " </span>,\n",
    " <span class=\"tag-item\">\n",
    " <a class=\"tag\" href=\"/tag/life/\" style=\"font-size: 26px\">life</a>\n",
    " </span>,\n",
    " <span class=\"tag-item\">\n",
    " <a class=\"tag\" href=\"/tag/humor/\" style=\"font-size: 24px\">humor</a>\n",
    " </span>,\n",
    " <span class=\"tag-item\">\n",
    " <a class=\"tag\" href=\"/tag/books/\" style=\"font-size: 22px\">books</a>\n",
    " </span>,\n",
    " <span class=\"tag-item\">\n",
    " <a class=\"tag\" href=\"/tag/reading/\" style=\"font-size: 14px\">reading</a>\n",
    " </span>,\n",
    " <span class=\"tag-item\">\n",
    " <a class=\"tag\" href=\"/tag/friendship/\" style=\"font-size: 10px\">friendship</a>\n",
    " </span>,\n",
    " <span class=\"tag-item\">\n",
    " <a class=\"tag\" href=\"/tag/friends/\" style=\"font-size: 8px\">friends</a>\n",
    " </span>,\n",
    " <span class=\"tag-item\">\n",
    " <a class=\"tag\" href=\"/tag/truth/\" style=\"font-size: 8px\">truth</a>\n",
    " </span>,\n",
    " <span class=\"tag-item\">\n",
    " <a class=\"tag\" href=\"/tag/simile/\" style=\"font-size: 6px\">simile</a>\n",
    " </span>,\n",
    " <span class=\"zyte\">❤</span>]"
   ]
  }
 ],
 "metadata": {
  "kernelspec": {
   "display_name": "Python 3 (ipykernel)",
   "language": "python",
   "name": "python3"
  },
  "language_info": {
   "codemirror_mode": {
    "name": "ipython",
    "version": 3
   },
   "file_extension": ".py",
   "mimetype": "text/x-python",
   "name": "python",
   "nbconvert_exporter": "python",
   "pygments_lexer": "ipython3",
   "version": "3.11.7"
  }
 },
 "nbformat": 4,
 "nbformat_minor": 5
}
